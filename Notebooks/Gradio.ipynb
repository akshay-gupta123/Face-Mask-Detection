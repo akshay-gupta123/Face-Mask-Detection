{
  "nbformat": 4,
  "nbformat_minor": 0,
  "metadata": {
    "colab": {
      "name": "Untitled0.ipynb",
      "provenance": [],
      "collapsed_sections": []
    },
    "kernelspec": {
      "name": "python3",
      "display_name": "Python 3"
    },
    "accelerator": "GPU"
  },
  "cells": [
    {
      "cell_type": "code",
      "metadata": {
        "colab": {
          "base_uri": "https://localhost:8080/"
        },
        "id": "jl2jio4vKgiB",
        "outputId": "48eae420-77eb-4a3d-91c3-042294fff369"
      },
      "source": [
        "!pip install --quiet gradio\r\n",
        "!pip install shap\r\n",
        "!git clone https://github.com/ultralytics/yolov5\r\n",
        "!git clone https://github.com/biplav-s/image-mask-estimate"
      ],
      "execution_count": 2,
      "outputs": [
        {
          "output_type": "stream",
          "text": [
            "\u001b[K     |████████████████████████████████| 1.1MB 17.2MB/s \n",
            "\u001b[K     |████████████████████████████████| 215kB 58.9MB/s \n",
            "\u001b[K     |████████████████████████████████| 2.6MB 49.9MB/s \n",
            "\u001b[K     |████████████████████████████████| 71kB 10.1MB/s \n",
            "\u001b[K     |████████████████████████████████| 962kB 47.2MB/s \n",
            "\u001b[?25h  Building wheel for Flask-BasicAuth (setup.py) ... \u001b[?25l\u001b[?25hdone\n",
            "  Building wheel for ffmpy (setup.py) ... \u001b[?25l\u001b[?25hdone\n",
            "  Building wheel for flask-cachebuster (setup.py) ... \u001b[?25l\u001b[?25hdone\n",
            "Collecting shap\n",
            "\u001b[?25l  Downloading https://files.pythonhosted.org/packages/44/20/54381999efe3000f70a7f68af79ba857cfa3f82278ab0e02e6ba1c06b002/shap-0.38.1.tar.gz (352kB)\n",
            "\u001b[K     |████████████████████████████████| 358kB 17.9MB/s \n",
            "\u001b[?25hRequirement already satisfied: numpy in /usr/local/lib/python3.6/dist-packages (from shap) (1.19.5)\n",
            "Requirement already satisfied: scipy in /usr/local/lib/python3.6/dist-packages (from shap) (1.4.1)\n",
            "Requirement already satisfied: scikit-learn in /usr/local/lib/python3.6/dist-packages (from shap) (0.22.2.post1)\n",
            "Requirement already satisfied: pandas in /usr/local/lib/python3.6/dist-packages (from shap) (1.1.5)\n",
            "Requirement already satisfied: tqdm>4.25.0 in /usr/local/lib/python3.6/dist-packages (from shap) (4.41.1)\n",
            "Collecting slicer==0.0.7\n",
            "  Downloading https://files.pythonhosted.org/packages/78/c2/b3f55dfdb8af9812fdb9baf70cacf3b9e82e505b2bd4324d588888b81202/slicer-0.0.7-py3-none-any.whl\n",
            "Requirement already satisfied: numba in /usr/local/lib/python3.6/dist-packages (from shap) (0.51.2)\n",
            "Requirement already satisfied: cloudpickle in /usr/local/lib/python3.6/dist-packages (from shap) (1.3.0)\n",
            "Requirement already satisfied: joblib>=0.11 in /usr/local/lib/python3.6/dist-packages (from scikit-learn->shap) (1.0.0)\n",
            "Requirement already satisfied: pytz>=2017.2 in /usr/local/lib/python3.6/dist-packages (from pandas->shap) (2018.9)\n",
            "Requirement already satisfied: python-dateutil>=2.7.3 in /usr/local/lib/python3.6/dist-packages (from pandas->shap) (2.8.1)\n",
            "Requirement already satisfied: llvmlite<0.35,>=0.34.0.dev0 in /usr/local/lib/python3.6/dist-packages (from numba->shap) (0.34.0)\n",
            "Requirement already satisfied: setuptools in /usr/local/lib/python3.6/dist-packages (from numba->shap) (51.3.3)\n",
            "Requirement already satisfied: six>=1.5 in /usr/local/lib/python3.6/dist-packages (from python-dateutil>=2.7.3->pandas->shap) (1.15.0)\n",
            "Building wheels for collected packages: shap\n",
            "  Building wheel for shap (setup.py) ... \u001b[?25l\u001b[?25hdone\n",
            "  Created wheel for shap: filename=shap-0.38.1-cp36-cp36m-linux_x86_64.whl size=489408 sha256=2a1c07cc0397f7f878b5a1da199049f5362e4c59b5817c7a6848c2ac2feadfa4\n",
            "  Stored in directory: /root/.cache/pip/wheels/a8/fb/e4/88012be41842b9be62ae18d82d1b1e880daf8539d1fef1fa00\n",
            "Successfully built shap\n",
            "Installing collected packages: slicer, shap\n",
            "Successfully installed shap-0.38.1 slicer-0.0.7\n",
            "Cloning into 'yolov5'...\n",
            "remote: Enumerating objects: 67, done.\u001b[K\n",
            "remote: Counting objects: 100% (67/67), done.\u001b[K\n",
            "remote: Compressing objects: 100% (48/48), done.\u001b[K\n",
            "remote: Total 4558 (delta 34), reused 38 (delta 19), pack-reused 4491\u001b[K\n",
            "Receiving objects: 100% (4558/4558), 7.72 MiB | 36.10 MiB/s, done.\n",
            "Resolving deltas: 100% (3096/3096), done.\n",
            "Cloning into 'image-mask-estimate'...\n",
            "remote: Enumerating objects: 37, done.\u001b[K\n",
            "remote: Counting objects: 100% (37/37), done.\u001b[K\n",
            "remote: Compressing objects: 100% (33/33), done.\u001b[K\n",
            "remote: Total 37 (delta 2), reused 31 (delta 1), pack-reused 0\u001b[K\n",
            "Unpacking objects: 100% (37/37), done.\n"
          ],
          "name": "stdout"
        }
      ]
    },
    {
      "cell_type": "code",
      "metadata": {
        "colab": {
          "base_uri": "https://localhost:8080/"
        },
        "id": "hKUIppDJkRjX",
        "outputId": "a542a66c-b493-4954-a021-95216bb94603"
      },
      "source": [
        "!pip install lime"
      ],
      "execution_count": 62,
      "outputs": [
        {
          "output_type": "stream",
          "text": [
            "Collecting lime\n",
            "\u001b[?25l  Downloading https://files.pythonhosted.org/packages/f5/86/91a13127d83d793ecb50eb75e716f76e6eda809b6803c5a4ff462339789e/lime-0.2.0.1.tar.gz (275kB)\n",
            "\r\u001b[K     |█▏                              | 10kB 23.3MB/s eta 0:00:01\r\u001b[K     |██▍                             | 20kB 31.1MB/s eta 0:00:01\r\u001b[K     |███▋                            | 30kB 22.4MB/s eta 0:00:01\r\u001b[K     |████▊                           | 40kB 20.3MB/s eta 0:00:01\r\u001b[K     |██████                          | 51kB 17.2MB/s eta 0:00:01\r\u001b[K     |███████▏                        | 61kB 14.5MB/s eta 0:00:01\r\u001b[K     |████████▎                       | 71kB 15.3MB/s eta 0:00:01\r\u001b[K     |█████████▌                      | 81kB 15.3MB/s eta 0:00:01\r\u001b[K     |██████████▊                     | 92kB 14.5MB/s eta 0:00:01\r\u001b[K     |███████████▉                    | 102kB 14.3MB/s eta 0:00:01\r\u001b[K     |█████████████                   | 112kB 14.3MB/s eta 0:00:01\r\u001b[K     |██████████████▎                 | 122kB 14.3MB/s eta 0:00:01\r\u001b[K     |███████████████▌                | 133kB 14.3MB/s eta 0:00:01\r\u001b[K     |████████████████▋               | 143kB 14.3MB/s eta 0:00:01\r\u001b[K     |█████████████████▉              | 153kB 14.3MB/s eta 0:00:01\r\u001b[K     |███████████████████             | 163kB 14.3MB/s eta 0:00:01\r\u001b[K     |████████████████████▏           | 174kB 14.3MB/s eta 0:00:01\r\u001b[K     |█████████████████████▍          | 184kB 14.3MB/s eta 0:00:01\r\u001b[K     |██████████████████████▋         | 194kB 14.3MB/s eta 0:00:01\r\u001b[K     |███████████████████████▊        | 204kB 14.3MB/s eta 0:00:01\r\u001b[K     |█████████████████████████       | 215kB 14.3MB/s eta 0:00:01\r\u001b[K     |██████████████████████████▏     | 225kB 14.3MB/s eta 0:00:01\r\u001b[K     |███████████████████████████▍    | 235kB 14.3MB/s eta 0:00:01\r\u001b[K     |████████████████████████████▌   | 245kB 14.3MB/s eta 0:00:01\r\u001b[K     |█████████████████████████████▊  | 256kB 14.3MB/s eta 0:00:01\r\u001b[K     |███████████████████████████████ | 266kB 14.3MB/s eta 0:00:01\r\u001b[K     |████████████████████████████████| 276kB 14.3MB/s \n",
            "\u001b[?25hRequirement already satisfied: matplotlib in /usr/local/lib/python3.6/dist-packages (from lime) (3.2.2)\n",
            "Requirement already satisfied: numpy in /usr/local/lib/python3.6/dist-packages (from lime) (1.19.5)\n",
            "Requirement already satisfied: scipy in /usr/local/lib/python3.6/dist-packages (from lime) (1.4.1)\n",
            "Requirement already satisfied: tqdm in /usr/local/lib/python3.6/dist-packages (from lime) (4.41.1)\n",
            "Requirement already satisfied: scikit-learn>=0.18 in /usr/local/lib/python3.6/dist-packages (from lime) (0.22.2.post1)\n",
            "Requirement already satisfied: scikit-image>=0.12 in /usr/local/lib/python3.6/dist-packages (from lime) (0.16.2)\n",
            "Requirement already satisfied: pyparsing!=2.0.4,!=2.1.2,!=2.1.6,>=2.0.1 in /usr/local/lib/python3.6/dist-packages (from matplotlib->lime) (2.4.7)\n",
            "Requirement already satisfied: cycler>=0.10 in /usr/local/lib/python3.6/dist-packages (from matplotlib->lime) (0.10.0)\n",
            "Requirement already satisfied: kiwisolver>=1.0.1 in /usr/local/lib/python3.6/dist-packages (from matplotlib->lime) (1.3.1)\n",
            "Requirement already satisfied: python-dateutil>=2.1 in /usr/local/lib/python3.6/dist-packages (from matplotlib->lime) (2.8.1)\n",
            "Requirement already satisfied: joblib>=0.11 in /usr/local/lib/python3.6/dist-packages (from scikit-learn>=0.18->lime) (1.0.0)\n",
            "Requirement already satisfied: PyWavelets>=0.4.0 in /usr/local/lib/python3.6/dist-packages (from scikit-image>=0.12->lime) (1.1.1)\n",
            "Requirement already satisfied: imageio>=2.3.0 in /usr/local/lib/python3.6/dist-packages (from scikit-image>=0.12->lime) (2.4.1)\n",
            "Requirement already satisfied: pillow>=4.3.0 in /usr/local/lib/python3.6/dist-packages (from scikit-image>=0.12->lime) (7.0.0)\n",
            "Requirement already satisfied: networkx>=2.0 in /usr/local/lib/python3.6/dist-packages (from scikit-image>=0.12->lime) (2.5)\n",
            "Requirement already satisfied: six in /usr/local/lib/python3.6/dist-packages (from cycler>=0.10->matplotlib->lime) (1.15.0)\n",
            "Requirement already satisfied: decorator>=4.3.0 in /usr/local/lib/python3.6/dist-packages (from networkx>=2.0->scikit-image>=0.12->lime) (4.4.2)\n",
            "Building wheels for collected packages: lime\n",
            "  Building wheel for lime (setup.py) ... \u001b[?25l\u001b[?25hdone\n",
            "  Created wheel for lime: filename=lime-0.2.0.1-cp36-none-any.whl size=283846 sha256=83ee0e8c660abe823fac37f0139049069a3e32cd65d73afcc93bdb4e98603207\n",
            "  Stored in directory: /root/.cache/pip/wheels/4c/4f/a5/0bc765457bd41378bf3ce8d17d7495369d6e7ca3b712c60c89\n",
            "Successfully built lime\n",
            "Installing collected packages: lime\n",
            "Successfully installed lime-0.2.0.1\n"
          ],
          "name": "stdout"
        }
      ]
    },
    {
      "cell_type": "code",
      "metadata": {
        "colab": {
          "base_uri": "https://localhost:8080/"
        },
        "id": "E__wmSVhLMtt",
        "outputId": "9d14ed02-0203-464f-98bf-94f9f59498dc"
      },
      "source": [
        "from google.colab import drive\r\n",
        "drive.mount('/content/gdrive')"
      ],
      "execution_count": 3,
      "outputs": [
        {
          "output_type": "stream",
          "text": [
            "Mounted at /content/gdrive\n"
          ],
          "name": "stdout"
        }
      ]
    },
    {
      "cell_type": "code",
      "metadata": {
        "id": "Ms9pn6Q1dE1p"
      },
      "source": [
        "%cp /content/gdrive/My\\ Drive/best.pt /content"
      ],
      "execution_count": 4,
      "outputs": []
    },
    {
      "cell_type": "code",
      "metadata": {
        "id": "PskBCYphkiBW"
      },
      "source": [
        "from lime import lime_image\r\n",
        "from skimage.segmentation import mark_boundaries"
      ],
      "execution_count": 63,
      "outputs": []
    },
    {
      "cell_type": "code",
      "metadata": {
        "id": "OVd5oitnKvKy"
      },
      "source": [
        "import gradio as gr\r\n",
        "import numpy as np\r\n",
        "import requests\r\n",
        "import random\r\n",
        "from glob import glob\r\n",
        "import torch\r\n",
        "import numpy as np\r\n",
        "import matplotlib.pyplot as plt\r\n",
        "import matplotlib.patches as patches\r\n",
        "import shap\r\n",
        "import torchvision\r\n",
        "import cv2\r\n",
        "from utils.general import non_max_suppression, box_iou\r\n",
        "device = torch.device('cuda:0')"
      ],
      "execution_count": 7,
      "outputs": []
    },
    {
      "cell_type": "code",
      "metadata": {
        "id": "MVUwH_OLLhv-"
      },
      "source": [
        "%matplotlib inline"
      ],
      "execution_count": 17,
      "outputs": []
    },
    {
      "cell_type": "code",
      "metadata": {
        "id": "WZ00NEuHLnNi"
      },
      "source": [
        "def rgb2gray(rgb):\r\n",
        "    return np.dot(rgb[...,:3], [0.2989, 0.5870, 0.1140])"
      ],
      "execution_count": 8,
      "outputs": []
    },
    {
      "cell_type": "code",
      "metadata": {
        "colab": {
          "base_uri": "https://localhost:8080/"
        },
        "id": "QQaRh3pLLniA",
        "outputId": "9e3f4c70-d354-4280-ec62-c3263a1b31cf"
      },
      "source": [
        "model = torch.hub.load('ultralytics/yolov5','custom', path_or_model='/content/best.pt')\r\n",
        "detector1 = model.autoshape() "
      ],
      "execution_count": 12,
      "outputs": [
        {
          "output_type": "stream",
          "text": [
            "Downloading: \"https://github.com/ultralytics/yolov5/archive/master.zip\" to /root/.cache/torch/hub/master.zip\n",
            "\n",
            "                 from  n    params  module                                  arguments                     \n",
            "  0                -1  1      3520  models.common.Focus                     [3, 32, 3]                    \n",
            "  1                -1  1     18560  models.common.Conv                      [32, 64, 3, 2]                \n",
            "  2                -1  1     18816  models.common.C3                        [64, 64, 1]                   \n",
            "  3                -1  1     73984  models.common.Conv                      [64, 128, 3, 2]               \n",
            "  4                -1  1    156928  models.common.C3                        [128, 128, 3]                 \n",
            "  5                -1  1    295424  models.common.Conv                      [128, 256, 3, 2]              \n",
            "  6                -1  1    625152  models.common.C3                        [256, 256, 3]                 \n",
            "  7                -1  1   1180672  models.common.Conv                      [256, 512, 3, 2]              \n",
            "  8                -1  1    656896  models.common.SPP                       [512, 512, [5, 9, 13]]        \n",
            "  9                -1  1   1182720  models.common.C3                        [512, 512, 1, False]          \n",
            " 10                -1  1    131584  models.common.Conv                      [512, 256, 1, 1]              \n",
            " 11                -1  1         0  torch.nn.modules.upsampling.Upsample    [None, 2, 'nearest']          \n",
            " 12           [-1, 6]  1         0  models.common.Concat                    [1]                           \n",
            " 13                -1  1    361984  models.common.C3                        [512, 256, 1, False]          \n",
            " 14                -1  1     33024  models.common.Conv                      [256, 128, 1, 1]              \n",
            " 15                -1  1         0  torch.nn.modules.upsampling.Upsample    [None, 2, 'nearest']          \n",
            " 16           [-1, 4]  1         0  models.common.Concat                    [1]                           \n",
            " 17                -1  1     90880  models.common.C3                        [256, 128, 1, False]          \n",
            " 18                -1  1    147712  models.common.Conv                      [128, 128, 3, 2]              \n",
            " 19          [-1, 14]  1         0  models.common.Concat                    [1]                           \n",
            " 20                -1  1    296448  models.common.C3                        [256, 256, 1, False]          \n",
            " 21                -1  1    590336  models.common.Conv                      [256, 256, 3, 2]              \n",
            " 22          [-1, 10]  1         0  models.common.Concat                    [1]                           \n",
            " 23                -1  1   1182720  models.common.C3                        [512, 512, 1, False]          \n",
            " 24      [17, 20, 23]  1     21576  models.yolo.Detect                      [3, [[10, 13, 16, 30, 33, 23], [30, 61, 62, 45, 59, 119], [116, 90, 156, 198, 373, 326]], [128, 256, 512]]\n",
            "Model Summary: 283 layers, 7068936 parameters, 7068936 gradients\n",
            "\n"
          ],
          "name": "stderr"
        },
        {
          "output_type": "stream",
          "text": [
            "Adding autoShape... \n",
            "autoShape already enabled, skipping... \n"
          ],
          "name": "stdout"
        }
      ]
    },
    {
      "cell_type": "code",
      "metadata": {
        "id": "0PhB2h8vNaAd"
      },
      "source": [
        "device = 'cuda' if torch.cuda.is_available() else 'cpu'"
      ],
      "execution_count": 109,
      "outputs": []
    },
    {
      "cell_type": "code",
      "metadata": {
        "id": "2ub7Xv3xL9qf"
      },
      "source": [
        "image_in = gr.inputs.Image()\r\n",
        "image_ou = gr.outputs.Image()\r\n",
        "text_ou = gr.outputs.Textbox()"
      ],
      "execution_count": 110,
      "outputs": []
    },
    {
      "cell_type": "code",
      "metadata": {
        "id": "--7z7lGAK_tN"
      },
      "source": [
        "def classify_image(inp):\r\n",
        "    print(inp.shape)\r\n",
        "    pred = detector1(inp)\r\n",
        "    pred.save()\r\n",
        "    mask=0\r\n",
        "    non_mask =0\r\n",
        "    for i,box in enumerate(pred.xyxy[0]):\r\n",
        "      if int(box[5])==1:\r\n",
        "        non_mask = non_mask+1\r\n",
        "      else :\r\n",
        "        mask = mask+1\r\n",
        "\r\n",
        "    img = cv2.imread('/content/results0.jpg',cv2.IMREAD_COLOR)\r\n",
        "    img = cv2.cvtColor(img, cv2.COLOR_BGR2RGB)\r\n",
        "    if (mask+non_mask)!=0:\r\n",
        "      res_string = f'Prediction: {mask} people wearing mask and {non_mask} people are not wearing mask; Proportion: {mask/(mask+non_mask):2.3f}'\r\n",
        "    else:\r\n",
        "      res_string = 'Prediction: Not identify any People'\r\n",
        "\r\n",
        "    return [img, res_string]"
      ],
      "execution_count": 111,
      "outputs": []
    },
    {
      "cell_type": "code",
      "metadata": {
        "id": "yLEy3sT6k5Ha"
      },
      "source": [
        "def Yolo_sum(images):\r\n",
        "    pred = []\r\n",
        "    for image in images:\r\n",
        "      sum=0\r\n",
        "      logits = detector1(image)\r\n",
        "      result = np.array(logits.xyxy[0][:,4])\r\n",
        "      for i in result:\r\n",
        "        sum+=i\r\n",
        "      sum = sum/len(result) if len(result) else 0 \r\n",
        "      pred.append([sum,1-sum])\r\n",
        "    return np.array(pred)"
      ],
      "execution_count": 120,
      "outputs": []
    },
    {
      "cell_type": "code",
      "metadata": {
        "id": "NLTnPEaykndm"
      },
      "source": [
        "#lime explainer\r\n",
        "explainer = lime_image.LimeImageExplainer()\r\n",
        "def lime_result(img): \r\n",
        "  \r\n",
        "    explanation = explainer.explain_instance(np.array(img),Yolo_sum , top_labels=5, hide_color=0, num_samples=100)\r\n",
        "    \r\n",
        "    temp, mask = explanation.get_image_and_mask(explanation.top_labels[0], positive_only=True, num_features=10, hide_rest=False)\r\n",
        "    img_boundry1 = mark_boundaries(temp/255.0, mask)\r\n",
        "    \r\n",
        "    temp, mask = explanation.get_image_and_mask(explanation.top_labels[0], positive_only=False, num_features=10, hide_rest=False)\r\n",
        "    img_boundry2 = mark_boundaries(temp/255.0, mask)\r\n",
        "    \r\n",
        "    f, axarr = plt.subplots(1,2)\r\n",
        "    axarr[0].imshow(img_boundry1)\r\n",
        "    axarr[1].imshow(img_boundry2)\r\n",
        "    plt.savefig(f'result.jpg')\r\n",
        "\r\n",
        "    img = cv2.imread('/content/result.jpg',cv2.IMREAD_COLOR)\r\n",
        "    img = cv2.cvtColor(img, cv2.COLOR_BGR2RGB)\r\n",
        "    \r\n",
        "    return [ img, 'Explaining result with segmentation process']\r\n",
        "\r\n"
      ],
      "execution_count": 121,
      "outputs": []
    },
    {
      "cell_type": "code",
      "metadata": {
        "id": "d1HY5m-YLBto"
      },
      "source": [
        "gr.Interface(\r\n",
        "    [classify_image,lime_result], \r\n",
        "    image_in, \r\n",
        "    [image_ou, text_ou],\r\n",
        "    title = \"Mask Detection & Explaination\",\r\n",
        "    description = \"In this model we use Yolov5 fine tuned on Mask Detection dataset. For explaining our we use LIME - 'Local Interpretable Model-Agnostic' using segmentaion process \",\r\n",
        "    capture_session=True).launch(debug=\"True\");"
      ],
      "execution_count": null,
      "outputs": []
    },
    {
      "cell_type": "code",
      "metadata": {
        "id": "iTsGlcUpLDxg"
      },
      "source": [
        ""
      ],
      "execution_count": null,
      "outputs": []
    }
  ]
}